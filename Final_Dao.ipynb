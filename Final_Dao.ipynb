{
 "cells": [
  {
   "cell_type": "code",
   "execution_count": 4,
   "id": "f088b8ef-35f9-43f4-aaef-88f6b88f42f1",
   "metadata": {},
   "outputs": [],
   "source": [
    "import matplotlib.pyplot as plt\n",
    "import matplotlib as mpl\n",
    "import pandas as pd\n",
    "import uncertainties as unc\n",
    "from scipy import stats\n",
    "from scipy.stats import norm \n",
    "from scipy.stats import uniform\n",
    "from scipy.stats import binom\n",
    "from scipy.stats import poisson\n",
    "from scipy.stats import cauchy\n",
    "import scipy.constants as const\n",
    "from tabulate import tabulate\n",
    "import math\n",
    "from matplotlib import cm\n",
    "import matplotlib.cm as cm\n",
    "import seaborn as sns\n",
    "from scipy.optimize import minimize\n",
    "from iminuit import Minuit\n",
    "import pickle\n",
    "import numpy as np\n",
    "from pyuvdata import UVData\n",
    "%matplotlib inline"
   ]
  },
  {
   "cell_type": "code",
   "execution_count": 5,
   "id": "db56e2af-1432-4bee-907b-42a63aa43e46",
   "metadata": {},
   "outputs": [
    {
     "name": "stdout",
     "output_type": "stream",
     "text": [
      "This data array has shape:\n",
      "(# baselines*times, # spectral windows, # frequencies, # polarizations)\n",
      "(13320, 1, 1536, 1)\n",
      "4\n"
     ]
    }
   ],
   "source": [
    "path_to_data_file = './Hera/'\n",
    "uv = UVData()\n",
    "uv.read('./zen.2459122.34011.mini.sum (2).uvh5')\n",
    "data = uv.data_array\n",
    "freqs = uv.freq_array[0]*1e-6\n",
    "print('This data array has shape:')\n",
    "print('(# baselines*times, # spectral windows, # frequencies, # polarizations)')\n",
    "print(np.shape(data))\n",
    "print(data.ndim)\n"
   ]
  },
  {
   "cell_type": "markdown",
   "id": "bd52826a-5405-4026-b17a-0e9428b1672e",
   "metadata": {},
   "source": [
    "### Define function to find amplitude differences between adjacent time slices for all pairs"
   ]
  },
  {
   "cell_type": "code",
   "execution_count": 7,
   "id": "46e76270-d4b7-46ea-a4df-0341d0ea559e",
   "metadata": {},
   "outputs": [],
   "source": [
    "# # Amplitude diff between adjacent slices\n",
    "# def amplitude_diff(uvdata):\n",
    "#     # Get unique baselines with visibilities\n",
    "#     baseline_pairs = uvdata.get_baseline_nums()\n",
    "#     # Initialize place to store amplitude diffs\n",
    "#     amp_diffs = {} \n",
    "#     # Iterate over pairs to get amplitude diffs\n",
    "#     for baseline in baseline_pairs:\n",
    "#         data_apair = uvdata.get_data(baseline)\n",
    "#         amplitudes = np.abs(data_apair)\n",
    "#         difference = np.abs(np.diff(amplitudes, axis=0))\n",
    "#         amp_diffs[baseline] = difference\n",
    "#     return amp_diffs\n",
    "        \n",
    "        "
   ]
  },
  {
   "cell_type": "markdown",
   "id": "eab3e311-2c92-45b7-83e5-becc4004cd8b",
   "metadata": {},
   "source": [
    "### DEfine threshold function that includes different methods with default as percentile"
   ]
  },
  {
   "cell_type": "markdown",
   "id": "b8854646-0f76-4182-bf8a-4ea09e9f14e1",
   "metadata": {},
   "source": [
    "### Define Function to filter through each pairing and plot freq. vs. avg amp before and after"
   ]
  },
  {
   "cell_type": "code",
   "execution_count": 10,
   "id": "9b83d987-1c7a-4a8f-b0d2-1f0d32d96d18",
   "metadata": {},
   "outputs": [],
   "source": [
    "# Amplitude diff between adjacent slices\n",
    "def amplitude_diff(uvdata):\n",
    "    # Get unique baselines with visibilities\n",
    "    baseline_pairs = uvdata.get_baseline_nums()\n",
    "    # Initialize place to store amplitude diffs\n",
    "    amp_diffs = {} \n",
    "    # Iterate over pairs to get amplitude diffs\n",
    "    for baseline in baseline_pairs:\n",
    "        data_apair = uvdata.get_data(baseline)\n",
    "        amplitudes = np.abs(data_apair)\n",
    "        difference = np.abs(np.diff(amplitudes, axis=0))\n",
    "        amp_diffs[baseline] = difference\n",
    "    return amp_diffs\n",
    "\n",
    "def filter(data):\n",
    "    baseline_pairs = data.get_baseline_nums()\n",
    "    # Call amplitude difference function to get aarray with amplitude differences\n",
    "    amplitude_differences = amplitude_diff(data)\n",
    "    # Initialize storing of filtered data for each pair\n",
    "    filtered_data = {}\n",
    "    # Threshold function\n",
    "    def find_threshold(d, method='quantile', q=0.05):\n",
    "            if method == 'quantile':\n",
    "                threshold = np.quantile(d, axis=0, q=q)\n",
    "            else:\n",
    "                raise ValueError(\"Unsupported threshold method.\")\n",
    "            return threshold\n",
    "    # Iterate through each baseline pair to determine threshold then filter data\n",
    "    for baseline in baseline_pairs:\n",
    "        # Get antenna numbers\n",
    "        antenna1, antenna2 = data.baseline_to_antnums(baseline)\n",
    "        \n",
    "        #### Determine threshold\n",
    "        # Threshold function\n",
    "        # def find_threshold(d, method='quantile', q=0.05):\n",
    "        #         if method == 'quantile':\n",
    "        #             threshold = np.quantile(d, axis=0, q=q)\n",
    "        #         else:\n",
    "        #             raise ValueError(\"Unsupported threshold method.\")\n",
    "        #         return threshold\n",
    "        \n",
    "        \n",
    "       \n",
    "        ### Filter\n",
    "        data_pair = data.get_data(baseline)\n",
    "        avg_diff_before = np.mean(amplitude_differences[baseline], axis=0)\n",
    "        threshold = find_threshold(avg_diff_before, method='quantile', q=0.99)\n",
    "        freqs_reject = np.any(amplitude_differences[baseline] >= threshold, axis=0) # List of frequencies to remove based on threshold\n",
    "        rejected_indices = np.where(freqs_reject)[0] # Location of frequencies to remove \n",
    "        amplitudes_filtered = np.delete(np.abs(data_pair), rejected_indices, axis=1) # Delete data corresponding to indices to reject\n",
    "        freqs = data.freq_array[0]*1e-6 # Original frequencies\n",
    "        freqs_filtered = np.delete(freqs, rejected_indices) # Delete frequencies correspondinf to indices to reject\n",
    "        # print(amplitude_differences[baseline])\n",
    "        # Store filtered data for each pair\n",
    "        filtered_data[baseline] = amplitudes_filtered\n",
    "        \n",
    "        avg_diff_after = np.mean(np.abs(np.diff(np.abs(amplitudes_filtered), axis=0)), axis=0)\n",
    "        \n",
    "        \n",
    "        print(\"freqs_filtered shape:\", freqs_filtered.shape)\n",
    "        print(\"amplitudes_filtered shape:\", amplitudes_filtered.shape)\n",
    "        if len(freqs_filtered) == 0 or amplitudes_filtered.size == 0:\n",
    "            print(f\"No data left after filtering for baseline ({antenna1}, {antenna2}).\")\n",
    "            continue\n",
    "        print(\"Threshold for baseline:\", threshold)\n",
    "      \n",
    "        \n",
    "        # plotting diff\n",
    "        plt.figure(figsize=(10, 4))\n",
    "        plt.plot(freqs, avg_diff_before, alpha=0.4, color='k', label=f\"Baseline Pair ({antenna1}, {antenna2}) Before Filtering\")\n",
    "        plt.plot(freqs_filtered, avg_diff_after, alpha=0.2, color='r', label=f\"Baseline Pair ({antenna1}, {antenna2}) After Filtering\")\n",
    "        plt.xlabel(\"Frequency\")\n",
    "        plt.ylabel(\"Average Amplitude\")\n",
    "        plt.legend()\n",
    "        plt.title(f\"Frequency vs Avg. Amplitude for Baseline Pair ({antenna1}, {antenna2})\")\n",
    "        plt.show()\n",
    "    return filtered_data\n",
    "    \n",
    "    \n",
    "    "
   ]
  },
  {
   "cell_type": "code",
   "execution_count": 11,
   "id": "c444cdd5-9c2c-4159-952a-2ae750b99d30",
   "metadata": {},
   "outputs": [],
   "source": [
    "# n = filter(uv)"
   ]
  },
  {
   "cell_type": "code",
   "execution_count": null,
   "id": "d242e037-e21a-411a-8c26-81563800f994",
   "metadata": {},
   "outputs": [],
   "source": []
  }
 ],
 "metadata": {
  "kernelspec": {
   "display_name": "Python 3 (ipykernel)",
   "language": "python",
   "name": "python3"
  },
  "language_info": {
   "codemirror_mode": {
    "name": "ipython",
    "version": 3
   },
   "file_extension": ".py",
   "mimetype": "text/x-python",
   "name": "python",
   "nbconvert_exporter": "python",
   "pygments_lexer": "ipython3",
   "version": "3.9.12"
  }
 },
 "nbformat": 4,
 "nbformat_minor": 5
}
