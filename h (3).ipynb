{
 "cells": [
  {
   "cell_type": "markdown",
   "id": "bdeeffae-c8bd-44de-af98-63099f5e937b",
   "metadata": {},
   "source": [
    "\n"
   ]
  },
  {
   "cell_type": "code",
   "execution_count": 56,
   "id": "f088b8ef-35f9-43f4-aaef-88f6b88f42f1",
   "metadata": {
    "jupyter": {
     "source_hidden": true
    }
   },
   "outputs": [],
   "source": [
    "import matplotlib.pyplot as plt\n",
    "import matplotlib as mpl\n",
    "import pandas as pd\n",
    "import uncertainties as unc\n",
    "from scipy import stats\n",
    "from scipy.stats import norm \n",
    "from scipy.stats import zscore\n",
    "import scipy.constants as const\n",
    "from tabulate import tabulate\n",
    "import math\n",
    "from matplotlib import cm\n",
    "import matplotlib.cm as cm\n",
    "import seaborn as sns\n",
    "from scipy.optimize import minimize\n",
    "import numpy as np\n",
    "from pyuvdata import UVData\n",
    "%matplotlib inline"
   ]
  },
  {
   "cell_type": "markdown",
   "id": "d79d0f82-a462-4914-ab0a-5d1b1f24af99",
   "metadata": {},
   "source": [
    "### Read in HERA data"
   ]
  },
  {
   "cell_type": "code",
   "execution_count": 58,
   "id": "db56e2af-1432-4bee-907b-42a63aa43e46",
   "metadata": {},
   "outputs": [
    {
     "name": "stdout",
     "output_type": "stream",
     "text": [
      "This data array has shape:\n",
      "(# baselines*times, # spectral windows, # frequencies, # polarizations)\n",
      "(13320, 1, 1536, 1)\n",
      "4\n"
     ]
    }
   ],
   "source": [
    "# Read in data and print shape as in lab 6\n",
    "path_to_data_file = './Hera/'\n",
    "uv = UVData()\n",
    "uv.read('./zen.2459122.34011.mini.sum (2).uvh5')\n",
    "data = uv.data_array\n",
    "freqs = uv.freq_array[0]*1e-6\n",
    "print('This data array has shape:')\n",
    "print('(# baselines*times, # spectral windows, # frequencies, # polarizations)')\n",
    "print(np.shape(data))\n",
    "print(data.ndim)"
   ]
  },
  {
   "cell_type": "markdown",
   "id": "e318c17e-5d90-4347-925a-3ba110ca51fc",
   "metadata": {},
   "source": [
    "### Function to Find Amplitude Diffs\n",
    "\n",
    "Define the function  `amplitude_diff` that takes in the visibility data (uv), then:\n",
    "1. Retrieves a list of unique baselines, `baseline_pairs`, using method `UVData.get_baseline_nums()`. \n",
    "2. Initializes an empty dictionary `amp_diffs` to store amplitude differences for each baseline.\n",
    "3. Iterates over unique baselines (unique pair of antennas). For each iteration:\n",
    "\n",
    "    a. Pulls the visibility data for the baseline, `data_apair`,  using method `UVData.get_data(baseline)`. \n",
    "    This is a 2D array of time steps x freq.\n",
    "    \n",
    "    b. Calculates the amplitudes of the complex visibility data, `amplitudes`, using `np.abs()`.\n",
    "    \n",
    "    c. Calculates the amplitude difference, `difference`, between adjacent time slices using `np.diff()` along the time axis [0].\n",
    "    \n",
    "    d. Stores the amplitude differences in the dictionary `amp_diffs[baseline]`.\n",
    "4. Returns the full dictionary of differences in `amp_diffs` with baseline IDs as keys.\n",
    "    \n"
   ]
  },
  {
   "cell_type": "code",
   "execution_count": 60,
   "id": "11f2bdab-4b9c-4106-b805-9492cd3b203b",
   "metadata": {},
   "outputs": [],
   "source": [
    "def amplitude_diff(uvdata):\n",
    "    # get_baseline_nums() Returns 1D darray of int-Array of unique baselines with data associated with them. Shape (666,)\n",
    "    baseline_pairs = uvdata.get_baseline_nums()\n",
    "    # Dictionary to store amplitude diffs\n",
    "    amp_diffs = {} \n",
    "    \n",
    "\n",
    "    # Iterate over baselines to get amplitude diffs for every unique baseline/antenna pair\n",
    "    for baseline in baseline_pairs:\n",
    "        data_apair = uvdata.get_data(baseline)\n",
    "        amplitudes = np.abs(data_apair)\n",
    "        difference = np.abs(np.diff(amplitudes, axis=0))\n",
    "        amp_diffs[baseline] = difference  \n",
    "    return amp_diffs"
   ]
  },
  {
   "cell_type": "markdown",
   "id": "b8854646-0f76-4182-bf8a-4ea09e9f14e1",
   "metadata": {},
   "source": [
    "### Define Function to filter through each pairing and plot freq. vs. avg amp before and after"
   ]
  },
  {
   "cell_type": "markdown",
   "id": "ae99cc5f-dfbb-4b59-ab02-22b9a3b62655",
   "metadata": {},
   "source": [
    "Define the function `filter` that takes in the visibility data (uv), then:\n",
    "1. Retrieves a list of unique baselines, `baseline_pairs`, using method `UVData.get_baseline_nums()`.\n",
    "2. Calls the function `amplitude_diff` to get dictionary of amplitude differences for each baseline.`amplitude_differences`.\n",
    "3. Initializes an empty dictionary `filtered_data` to store filtered visibility data for each baseline.\n",
    "\n",
    "4. Iterate over each baseline. For each iteration; `baseline in baseline_pairs`:\n",
    "\n",
    "    a. Pull corresponding antenna pair numbers using `baseline_to_antnums(baseline)`. `antenna1, antenna2`.\n",
    "    \n",
    "    b. Retrieve visibility data for the pair using `get_data(baseline)`. `data_apair`. \n",
    "    \n",
    "    c. Find the mean of the baseline's amplitude difference data in `amplitude_differences` before filtering for each frequency. `avg_diff_before`.\n",
    "    \n",
    "    d. Calculate z-score of `avg_diff_before` array. Plot distribution of z-scores and ran once to get threshold values of -.010:-0.015 to test)\n",
    "    \n",
    "    e. Identifies indices to reject based on defined `threshold`. `rejected_indices`.\n",
    "    \n",
    "    f. Filter frequency and amplitude data by deleting rejected indices in all frequencies,`freq`, of each. `freqs_filtered` and `amplitudes_filtered`.\n",
    "    \n",
    "    g. Store filtered amplitude data in dictionary `filtered_data[baseline]`.\n",
    "    \n",
    "    h. Calculate the filtered amplitude difference data and mean. `avg_diff_after`.\n",
    "    \n",
    "    i. Print shapes of frequency and amplitude arrays before and after filtering to see how data is cut.\n",
    "    \n",
    "    i. Plot 2 plots each with filtered and unfiltered data to evaluate filtering: Frequency vs. avg. Amplitude and Frequency vs. avg. Differential Amplitude.\n",
    "\n",
    "5. Returns `filtered_data`, which contains filtered visiblility data for all unique baselines.\n"
   ]
  },
  {
   "cell_type": "code",
   "execution_count": 63,
   "id": "8dd86444-6392-48a8-8521-00f3dd273bb3",
   "metadata": {},
   "outputs": [],
   "source": [
    "def determine_threshold(z_vals, percentile=95):\n",
    "    mu, sigma = norm.fit(z_vals)\n",
    "    threshold = np.percentile(z_vals, 95)\n",
    "    return threshold"
   ]
  },
  {
   "cell_type": "code",
   "execution_count": 64,
   "id": "75faa280-9500-4f6e-ac15-4a985cc407f4",
   "metadata": {},
   "outputs": [],
   "source": [
    "def filter(data):\n",
    "    # Get unique baselines with visibilities using method get_baseline_nums().\n",
    "    baseline_pairs = data.get_baseline_nums() # 1D int array of unique baselines that have associated data. (666,)\n",
    "    \n",
    "    # Call amplitude difference function to get array with amplitude differences of adjacent time slices for each baseline\n",
    "    amplitude_differences = amplitude_diff(data) \n",
    "    \n",
    "    # Initialize dictionary to store filtered data for each baseline iteration/antenna pair\n",
    "    filtered_data = {} \n",
    "    \n",
    "    # Iterate through each unique baseline/antenna pair to determine threshold then filter data and plot before and after \n",
    "    for baseline in baseline_pairs:\n",
    "        # Get antenna numbers for current baseline\n",
    "        antenna1, antenna2 = data.baseline_to_antnums(baseline)        \n",
    "        # Get visibility data for the baseline/pair \n",
    "        data_pair = data.get_data(baseline) # 2D complex array\n",
    "        amplitudes = np.abs(data_pair)\n",
    "        # Calculate avg. amplitude diff for baseline BEFORE filtering\n",
    "        avg_diff_before = np.mean(amplitude_differences[baseline], axis=0) # 1D array (1536,)\n",
    "        # Calculate z score of mean amplitude diff data. Plot z dist. once for threshold guesses then comment out.\n",
    "        z = zscore(avg_diff_before)\n",
    "        # Define threshold for z-score to use for filtering\n",
    "        threshold = determine_threshold(z)\n",
    "        # Filter freqs and corresponding amplitudes using indices where z>threshold in frequency array and deleting rejects\n",
    "        rejected_indices = np.where(z > threshold)[0] # 1D array of locations of frequencies to remove \n",
    "        amplitudes_filtered = np.delete(np.abs(data_pair), rejected_indices, axis=1) # 2D array of filtered visibility data\n",
    "        freqs = data.freq_array[0]*1e-6 # Original frequencies array\n",
    "        freqs_filtered = np.delete(freqs, rejected_indices) # 1D filtered frequencies array\n",
    "        # Store filtered vis data in dictionary filtered_data for current baseline \n",
    "        filtered_data[baseline] = amplitudes_filtered\n",
    "        # Calculate avg. amplitude differences now for filtered visibility data\n",
    "        avg_diff_after = np.mean(np.abs(np.diff(np.abs(amplitudes_filtered), axis=0)), axis=0) \n",
    "        \n",
    "        # Print shapes before and after filtering to see how data is cut.\n",
    "        print(\"rejected\", rejected_indices.shape)\n",
    "        print(\"freqs shape:\", freqs.shape)\n",
    "        print(\"freqs_filtered shape:\", freqs_filtered.shape)\n",
    "        print(\"amplitudes_filtered shape:\", amplitudes_filtered.shape)\n",
    "        print(\"Threshold for baseline:\", threshold)\n",
    "        \n",
    "        # plotting before and after filtering. Frequency vs. avg. amplitude of the difference in visibility between each\n",
    "        # pair of adjacent time slices\n",
    "        fig, axs = plt.subplots(2, 1, figsize=(10,10))\n",
    "        \n",
    "        axs[0].plot(freqs, avg_diff_before, alpha=0.4, color='k', label=f\"Baseline Pair ({antenna1}, {antenna2}) Before Filtering\")\n",
    "        axs[0].plot(freqs_filtered, avg_diff_after, alpha=0.2, color='r', label=f\"Baseline Pair ({antenna1}, {antenna2}) After Filtering\")\n",
    "        axs[0].set_xlabel(\"Frequency [Mhz]\")\n",
    "        axs[0].set_ylabel(\"Average Differential Amplitude\")\n",
    "        axs[0].set_title(f\"Frequency vs Avg. Differential Amplitude for Baseline Pair ({antenna1}, {antenna2})\")\n",
    "        axs[0].legend()\n",
    "        \n",
    "        \n",
    "        # plotting before and after filtering. Frequency vs. avg. Amplitude \n",
    "        \n",
    "        axs[1].plot(freqs, np.mean(np.abs(data_pair), axis=0), alpha=0.4, color='k', label=f\"Baseline Pair ({antenna1}, {antenna2}) Before Filtering\")\n",
    "        axs[1].plot(freqs_filtered, np.mean(np.abs(amplitudes_filtered), axis=0), alpha=0.2, color='r', label=f\"Baseline Pair ({antenna1}, {antenna2}) After Filtering\")\n",
    "        axs[1].set_xlabel(\"Frequency [Mhz]\")\n",
    "        axs[1].set_ylabel(\"Average Amplitude\")\n",
    "        axs[1].set_title(f\"Frequency vs Avg. Amplitude for Baseline Pair ({antenna1}, {antenna2})\")\n",
    "        axs[1].legend()\n",
    "        plt.show()      \n",
    "        \n",
    "        \n",
    "        ### ADDITIONAL PLOTS COMMENTED OUT TO SAVE RUNTIME\n",
    "        # Waterfall plot of filtered data\n",
    "        # a_f = np.mean(np.abs(amplitudes_filtered), axis=0, keepdims=True)\n",
    "        # fig, axs = plt.subplots(1,1,figsize=(8,4))\n",
    "        # im = plt.imshow(a_f,aspect='auto')\n",
    "        # cbar = fig.colorbar(im)\n",
    "        # axs.set_ylabel('Time')\n",
    "        # axs.set_xlabel('Frequency (MHz)')\n",
    "        # axs.set_title('Waterfall Plot of Avg. Amplitude After Contamination Removal for Baseline Pair (1,2)')\n",
    "        # xticks = [int(i) for i in np.linspace(0,len(freqs_filtered)-1,8)]\n",
    "        # _ = axs.set_xticks(xticks)\n",
    "        # xticklabels = np.around(freqs_filtered[xticks],0)\n",
    "        # _ = axs.set_xticklabels(xticklabels)\n",
    "\n",
    "        # # Waterfall Plot before filtering\n",
    "        # a_uf = np.mean(np.abs(data_pair), axis=0, keepdims=True)\n",
    "        # fig, axs = plt.subplots(1,1,figsize=(8,4))\n",
    "        # im = plt.imshow(a_uf,aspect='auto')\n",
    "        # cbar = fig.colorbar(im)\n",
    "        # freqs = uv.freq_array[0]*1e-6 #gets frequencies associated with each channel, in MHz\n",
    "        # axs.set_ylabel('Time')\n",
    "        # axs.set_xlabel('Frequency (MHz)')\n",
    "        # axs.set_title('Waterfall Plot of Avg. Amplitude Before Contamination Removal for Baseline Pair (1,2)')\n",
    "        # xticks = [int(i) for i in np.linspace(0,len(freqs)-1,8)]\n",
    "        # _ = axs.set_xticks(xticks)\n",
    "        # xticklabels = np.around(freqs[xticks],0)\n",
    "        # _ = axs.set_xticklabels(xticklabels)\n",
    "        \n",
    "    return filtered_data"
   ]
  },
  {
   "cell_type": "markdown",
   "id": "49d69d03-8cbc-470d-b3be-ee28da573c2d",
   "metadata": {},
   "source": [
    "### Call Filtering Function for HERA Data, uv"
   ]
  },
  {
   "cell_type": "code",
   "execution_count": 66,
   "id": "c444cdd5-9c2c-4159-952a-2ae750b99d30",
   "metadata": {},
   "outputs": [],
   "source": [
    "# n = filter(uv)"
   ]
  },
  {
   "cell_type": "code",
   "execution_count": null,
   "id": "d242e037-e21a-411a-8c26-81563800f994",
   "metadata": {},
   "outputs": [],
   "source": []
  }
 ],
 "metadata": {
  "kernelspec": {
   "display_name": "Python [conda env:base] *",
   "language": "python",
   "name": "conda-base-py"
  },
  "language_info": {
   "codemirror_mode": {
    "name": "ipython",
    "version": 3
   },
   "file_extension": ".py",
   "mimetype": "text/x-python",
   "name": "python",
   "nbconvert_exporter": "python",
   "pygments_lexer": "ipython3",
   "version": "3.9.21"
  }
 },
 "nbformat": 4,
 "nbformat_minor": 5
}
